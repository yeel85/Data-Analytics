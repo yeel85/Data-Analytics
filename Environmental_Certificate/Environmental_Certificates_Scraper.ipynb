{
 "cells": [
  {
   "cell_type": "code",
   "execution_count": 1,
   "id": "852b5974",
   "metadata": {},
   "outputs": [],
   "source": [
    "import numpy as np\n",
    "import pandas as pd\n",
    "from selenium import webdriver #pip install selenium\n",
    "from selenium.webdriver.common.by import By\n",
    "from selenium.webdriver.chrome.service import Service\n",
    "from webdriver_manager.chrome import ChromeDriverManager"
   ]
  },
  {
   "cell_type": "code",
   "execution_count": 2,
   "id": "1e1cf405",
   "metadata": {},
   "outputs": [],
   "source": [
    "chrome_executable = Service(executable_path=r'C:\\Users\\yeesi\\OneDrive\\Desktop\\Git\\Data-Analytics\\Environmental_Certificate\\chromedriver_win32\\chromedriver.exe')\n",
    "driver = webdriver.Chrome(service=chrome_executable)\n",
    "driver.get('http://www.demandmanager.com.au/certificate-prices/')"
   ]
  },
  {
   "cell_type": "code",
   "execution_count": 3,
   "id": "86b77301",
   "metadata": {},
   "outputs": [],
   "source": [
    "table = driver.find_element(By.ID, 'spot_table_holder').get_attribute('innerHTML')"
   ]
  },
  {
   "cell_type": "code",
   "execution_count": 4,
   "id": "e1e66e3b",
   "metadata": {},
   "outputs": [
    {
     "data": {
      "text/html": [
       "<div>\n",
       "<style scoped>\n",
       "    .dataframe tbody tr th:only-of-type {\n",
       "        vertical-align: middle;\n",
       "    }\n",
       "\n",
       "    .dataframe tbody tr th {\n",
       "        vertical-align: top;\n",
       "    }\n",
       "\n",
       "    .dataframe thead th {\n",
       "        text-align: right;\n",
       "    }\n",
       "</style>\n",
       "<table border=\"1\" class=\"dataframe\">\n",
       "  <thead>\n",
       "    <tr style=\"text-align: right;\">\n",
       "      <th></th>\n",
       "      <th>Scheme</th>\n",
       "      <th>Price</th>\n",
       "      <th>Volume</th>\n",
       "      <th>Date</th>\n",
       "    </tr>\n",
       "  </thead>\n",
       "  <tbody>\n",
       "    <tr>\n",
       "      <th>0</th>\n",
       "      <td>LGC</td>\n",
       "      <td>$65.75</td>\n",
       "      <td>10000</td>\n",
       "      <td>02/11/22</td>\n",
       "    </tr>\n",
       "    <tr>\n",
       "      <th>1</th>\n",
       "      <td>LGC</td>\n",
       "      <td>$66.00</td>\n",
       "      <td>5000</td>\n",
       "      <td>02/11/22</td>\n",
       "    </tr>\n",
       "    <tr>\n",
       "      <th>2</th>\n",
       "      <td>LGC</td>\n",
       "      <td>$66.25</td>\n",
       "      <td>10000</td>\n",
       "      <td>02/11/22</td>\n",
       "    </tr>\n",
       "    <tr>\n",
       "      <th>3</th>\n",
       "      <td>LGC</td>\n",
       "      <td>$66.50</td>\n",
       "      <td>25000</td>\n",
       "      <td>02/11/22</td>\n",
       "    </tr>\n",
       "    <tr>\n",
       "      <th>4</th>\n",
       "      <td>VEEC</td>\n",
       "      <td>$72.25</td>\n",
       "      <td>10000</td>\n",
       "      <td>02/11/22</td>\n",
       "    </tr>\n",
       "    <tr>\n",
       "      <th>5</th>\n",
       "      <td>VEEC</td>\n",
       "      <td>$72.00</td>\n",
       "      <td>5000</td>\n",
       "      <td>02/11/22</td>\n",
       "    </tr>\n",
       "    <tr>\n",
       "      <th>6</th>\n",
       "      <td>ESC</td>\n",
       "      <td>$35.00</td>\n",
       "      <td>15000</td>\n",
       "      <td>02/11/22</td>\n",
       "    </tr>\n",
       "    <tr>\n",
       "      <th>7</th>\n",
       "      <td>ACCU</td>\n",
       "      <td>$29.75</td>\n",
       "      <td>25000</td>\n",
       "      <td>31/10/22</td>\n",
       "    </tr>\n",
       "    <tr>\n",
       "      <th>8</th>\n",
       "      <td>LGC</td>\n",
       "      <td>$66.00</td>\n",
       "      <td>10000</td>\n",
       "      <td>01/11/22</td>\n",
       "    </tr>\n",
       "  </tbody>\n",
       "</table>\n",
       "</div>"
      ],
      "text/plain": [
       "  Scheme   Price  Volume      Date\n",
       "0    LGC  $65.75   10000  02/11/22\n",
       "1    LGC  $66.00    5000  02/11/22\n",
       "2    LGC  $66.25   10000  02/11/22\n",
       "3    LGC  $66.50   25000  02/11/22\n",
       "4   VEEC  $72.25   10000  02/11/22\n",
       "5   VEEC  $72.00    5000  02/11/22\n",
       "6    ESC  $35.00   15000  02/11/22\n",
       "7   ACCU  $29.75   25000  31/10/22\n",
       "8    LGC  $66.00   10000  01/11/22"
      ]
     },
     "execution_count": 4,
     "metadata": {},
     "output_type": "execute_result"
    }
   ],
   "source": [
    "#Extracting latest Spot Table\n",
    "df = pd.read_html(table)[0]\n",
    "df"
   ]
  },
  {
   "cell_type": "code",
   "execution_count": 5,
   "id": "cea5494b",
   "metadata": {},
   "outputs": [],
   "source": [
    "df_group = df.groupby(['Scheme','Date'])"
   ]
  },
  {
   "cell_type": "code",
   "execution_count": 6,
   "id": "51a09e96",
   "metadata": {},
   "outputs": [],
   "source": [
    "cert_latest = []\n",
    "for i in df_group.groups:\n",
    "    cert_latest.append(pd.DataFrame(df_group.get_group(i).iloc[0]).transpose())\n",
    "cert_latest = pd.concat(cert_latest)\n",
    "cert_latest.set_index('Date', inplace=True)"
   ]
  },
  {
   "cell_type": "code",
   "execution_count": 8,
   "id": "069433d3",
   "metadata": {},
   "outputs": [
    {
     "data": {
      "text/html": [
       "<div>\n",
       "<style scoped>\n",
       "    .dataframe tbody tr th:only-of-type {\n",
       "        vertical-align: middle;\n",
       "    }\n",
       "\n",
       "    .dataframe tbody tr th {\n",
       "        vertical-align: top;\n",
       "    }\n",
       "\n",
       "    .dataframe thead th {\n",
       "        text-align: right;\n",
       "    }\n",
       "</style>\n",
       "<table border=\"1\" class=\"dataframe\">\n",
       "  <thead>\n",
       "    <tr style=\"text-align: right;\">\n",
       "      <th></th>\n",
       "      <th>Scheme</th>\n",
       "      <th>Price</th>\n",
       "      <th>Volume</th>\n",
       "    </tr>\n",
       "    <tr>\n",
       "      <th>Date</th>\n",
       "      <th></th>\n",
       "      <th></th>\n",
       "      <th></th>\n",
       "    </tr>\n",
       "  </thead>\n",
       "  <tbody>\n",
       "    <tr>\n",
       "      <th>31/10/22</th>\n",
       "      <td>ACCU</td>\n",
       "      <td>$29.75</td>\n",
       "      <td>25000</td>\n",
       "    </tr>\n",
       "    <tr>\n",
       "      <th>02/11/22</th>\n",
       "      <td>ESC</td>\n",
       "      <td>$35.00</td>\n",
       "      <td>15000</td>\n",
       "    </tr>\n",
       "    <tr>\n",
       "      <th>01/11/22</th>\n",
       "      <td>LGC</td>\n",
       "      <td>$66.00</td>\n",
       "      <td>10000</td>\n",
       "    </tr>\n",
       "    <tr>\n",
       "      <th>02/11/22</th>\n",
       "      <td>LGC</td>\n",
       "      <td>$65.75</td>\n",
       "      <td>10000</td>\n",
       "    </tr>\n",
       "    <tr>\n",
       "      <th>02/11/22</th>\n",
       "      <td>VEEC</td>\n",
       "      <td>$72.25</td>\n",
       "      <td>10000</td>\n",
       "    </tr>\n",
       "  </tbody>\n",
       "</table>\n",
       "</div>"
      ],
      "text/plain": [
       "         Scheme   Price Volume\n",
       "Date                          \n",
       "31/10/22   ACCU  $29.75  25000\n",
       "02/11/22    ESC  $35.00  15000\n",
       "01/11/22    LGC  $66.00  10000\n",
       "02/11/22    LGC  $65.75  10000\n",
       "02/11/22   VEEC  $72.25  10000"
      ]
     },
     "execution_count": 8,
     "metadata": {},
     "output_type": "execute_result"
    }
   ],
   "source": [
    "cert_latest"
   ]
  },
  {
   "cell_type": "code",
   "execution_count": null,
   "id": "9d563a3b",
   "metadata": {},
   "outputs": [],
   "source": []
  }
 ],
 "metadata": {
  "kernelspec": {
   "display_name": "Python 3 (ipykernel)",
   "language": "python",
   "name": "python3"
  },
  "language_info": {
   "codemirror_mode": {
    "name": "ipython",
    "version": 3
   },
   "file_extension": ".py",
   "mimetype": "text/x-python",
   "name": "python",
   "nbconvert_exporter": "python",
   "pygments_lexer": "ipython3",
   "version": "3.9.13"
  }
 },
 "nbformat": 4,
 "nbformat_minor": 5
}
